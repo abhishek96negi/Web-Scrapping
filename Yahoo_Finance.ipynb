{
 "cells": [
  {
   "cell_type": "markdown",
   "id": "ba75813d",
   "metadata": {},
   "source": [
    "# How to Scrape Stock Prices from Yahoo Finance with Python"
   ]
  },
  {
   "cell_type": "code",
   "execution_count": 57,
   "id": "6496510e",
   "metadata": {},
   "outputs": [
    {
     "data": {
      "text/plain": [
       "<Response [200]>"
      ]
     },
     "execution_count": 57,
     "metadata": {},
     "output_type": "execute_result"
    }
   ],
   "source": [
    "import requests\n",
    "from bs4 import BeautifulSoup\n",
    "\n",
    "headers = {\n",
    "    'User-Agent': 'Mozilla/5.0 (Macintosh; Intel Mac OS X 10_15_7) AppleWebKit/537.36 (KHTML, like Gecko) Chrome/97.0.4692.71 Safari/537.36'\n",
    "}"
   ]
  },
  {
   "cell_type": "code",
   "execution_count": 62,
   "id": "dd4feabd",
   "metadata": {},
   "outputs": [],
   "source": [
    "def stock_price(company_symbol):\n",
    "    url = f'https://finance.yahoo.com/quote/{company_symbol}'\n",
    "    r = requests.get(url, headers=headers)\n",
    "    soup = BeautifulSoup(r.text, 'lxml')\n",
    "    company_name = soup.find('h1').text\n",
    "    price = soup.find('fin-streamer', class_='Fw(b) Fz(36px) Mb(-4px) D(ib)').text \n",
    "    change_price = soup.find('fin-streamer', class_='C($primaryColor) Fz(24px) Fw(b)').text if soup.find('fin-streamer', class_='C($primaryColor) Fz(24px) Fw(b)') is not None else 0\n",
    "    return {\n",
    "        'Company Name': company_name,\n",
    "        'price': price,\n",
    "        'change_price': change_price\n",
    "    }"
   ]
  },
  {
   "cell_type": "code",
   "execution_count": 65,
   "id": "1efbfc23",
   "metadata": {},
   "outputs": [
    {
     "data": {
      "text/plain": [
       "{'Company Name': 'Tesla, Inc. (TSLA)',\n",
       " 'price': '1,030.51',\n",
       " 'change_price': '1,042.90'}"
      ]
     },
     "execution_count": 65,
     "metadata": {},
     "output_type": "execute_result"
    }
   ],
   "source": [
    "stock_price('TSLA')"
   ]
  }
 ],
 "metadata": {
  "kernelspec": {
   "display_name": "Python 3 (ipykernel)",
   "language": "python",
   "name": "python3"
  },
  "language_info": {
   "codemirror_mode": {
    "name": "ipython",
    "version": 3
   },
   "file_extension": ".py",
   "mimetype": "text/x-python",
   "name": "python",
   "nbconvert_exporter": "python",
   "pygments_lexer": "ipython3",
   "version": "3.7.11"
  }
 },
 "nbformat": 4,
 "nbformat_minor": 5
}
