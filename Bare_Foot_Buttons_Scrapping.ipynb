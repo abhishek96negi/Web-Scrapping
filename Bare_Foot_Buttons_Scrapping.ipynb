{
 "cells": [
  {
   "cell_type": "code",
   "execution_count": null,
   "id": "18917f2c",
   "metadata": {},
   "outputs": [],
   "source": [
    "from requests_html import HTMLSession\n",
    "import time\n",
    "\n",
    "s = HTMLSession()\n",
    "url = 'https://barefootbuttons.com/product-category/version-1/'\n",
    "\n",
    "def get_links(url):\n",
    "    r = s.get(url)\n",
    "    items = r.html.find('div.product-small.box')\n",
    "    links = []\n",
    "    for item in items:\n",
    "        links.append(item.find('a', first=True).attrs['href'])\n",
    "    return links\n",
    "\n",
    "def get_productdata(link):\n",
    "    r = s.get(link)\n",
    "    title = r.html.find('h1', first=True).full_text\n",
    "    price = r.html.find('span.woocommerce-Price-amount.amount bdi')[1].full_text\n",
    "    tag = r.html.find('a[rel=tag]', first=True).full_text\n",
    "    sku = r.html.find('span.sku', first=True).full_text\n",
    "\n",
    "    product = {\n",
    "        'title': title.strip(),\n",
    "        'price': price.strip(),\n",
    "        'tag': tag.strip(),\n",
    "        'sku': sku.strip()\n",
    "    }\n",
    "    return product\n",
    "\n",
    "results = []\n",
    "links = get_links(url)\n",
    "\n",
    "for link in links:\n",
    "    results.append(get_productdata(link))\n",
    "    time.sleep(1)\n",
    "\n",
    "df = pd.DataFrame(results)\n",
    "df"
   ]
  }
 ],
 "metadata": {
  "kernelspec": {
   "display_name": "Python 3 (ipykernel)",
   "language": "python",
   "name": "python3"
  },
  "language_info": {
   "codemirror_mode": {
    "name": "ipython",
    "version": 3
   },
   "file_extension": ".py",
   "mimetype": "text/x-python",
   "name": "python",
   "nbconvert_exporter": "python",
   "pygments_lexer": "ipython3",
   "version": "3.7.11"
  }
 },
 "nbformat": 4,
 "nbformat_minor": 5
}
